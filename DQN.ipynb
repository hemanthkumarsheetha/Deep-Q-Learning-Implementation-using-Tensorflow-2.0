{
  "nbformat": 4,
  "nbformat_minor": 0,
  "metadata": {
    "colab": {
      "name": "DQN",
      "provenance": [],
      "collapsed_sections": [],
      "machine_shape": "hm"
    },
    "kernelspec": {
      "name": "python3",
      "display_name": "Python 3"
    },
    "accelerator": "GPU"
  },
  "cells": [
    {
      "cell_type": "code",
      "metadata": {
        "id": "RrT5K6xKBxSw",
        "colab_type": "code",
        "colab": {}
      },
      "source": [
        "import tensorflow as tf\n",
        "import gym\n",
        "from tensorflow.keras.layers import Dense,Conv2D,Flatten\n",
        "import skimage\n",
        "from skimage import transform \n",
        "from skimage.color import rgb2gray\n",
        "import numpy as np\n",
        "from tensorflow.keras import Model"
      ],
      "execution_count": 0,
      "outputs": []
    },
    {
      "cell_type": "code",
      "metadata": {
        "id": "DLAeMHSeXrhe",
        "colab_type": "code",
        "outputId": "04c7360c-5369-4e12-c6e6-f1d6ec3a6cae",
        "colab": {
          "base_uri": "https://localhost:8080/",
          "height": 34
        }
      },
      "source": [
        "tf.__version__\n",
        "#!pip install tensorflow-gpu==\"2.0.0\""
      ],
      "execution_count": 0,
      "outputs": [
        {
          "output_type": "execute_result",
          "data": {
            "text/plain": [
              "'2.0.0'"
            ]
          },
          "metadata": {
            "tags": []
          },
          "execution_count": 2
        }
      ]
    },
    {
      "cell_type": "code",
      "metadata": {
        "id": "4w5JMFc9C3ay",
        "colab_type": "code",
        "colab": {}
      },
      "source": [
        "env_name = \"MsPacman-v0\"\n",
        "env = gym.make(env_name)"
      ],
      "execution_count": 0,
      "outputs": []
    },
    {
      "cell_type": "code",
      "metadata": {
        "id": "C3PNjMVBC8sc",
        "colab_type": "code",
        "outputId": "dfaa789b-f32a-47b2-b53b-01efa746a6df",
        "colab": {
          "base_uri": "https://localhost:8080/",
          "height": 34
        }
      },
      "source": [
        "env.observation_space"
      ],
      "execution_count": 0,
      "outputs": [
        {
          "output_type": "execute_result",
          "data": {
            "text/plain": [
              "Box(210, 160, 3)"
            ]
          },
          "metadata": {
            "tags": []
          },
          "execution_count": 4
        }
      ]
    },
    {
      "cell_type": "code",
      "metadata": {
        "id": "iuaeCTv7AfP9",
        "colab_type": "code",
        "colab": {}
      },
      "source": [
        "possible_actions = np.array(np.identity(env.action_space.n,dtype=int).tolist())"
      ],
      "execution_count": 0,
      "outputs": []
    },
    {
      "cell_type": "code",
      "metadata": {
        "id": "E5X9Hsg7C-eW",
        "colab_type": "code",
        "outputId": "670a5f28-56f9-4ec4-e1e0-2e95b4964fbf",
        "colab": {
          "base_uri": "https://localhost:8080/",
          "height": 34
        }
      },
      "source": [
        "env.action_space"
      ],
      "execution_count": 0,
      "outputs": [
        {
          "output_type": "execute_result",
          "data": {
            "text/plain": [
              "Discrete(9)"
            ]
          },
          "metadata": {
            "tags": []
          },
          "execution_count": 6
        }
      ]
    },
    {
      "cell_type": "code",
      "metadata": {
        "id": "m2vqUScGSo1R",
        "colab_type": "code",
        "outputId": "759c0c83-65cb-4410-d498-6c775630fe18",
        "colab": {
          "base_uri": "https://localhost:8080/",
          "height": 850
        }
      },
      "source": [
        "env.reset()"
      ],
      "execution_count": 0,
      "outputs": [
        {
          "output_type": "execute_result",
          "data": {
            "text/plain": [
              "array([[[  0,   0,   0],\n",
              "        [  0,   0,   0],\n",
              "        [  0,   0,   0],\n",
              "        ...,\n",
              "        [  0,   0,   0],\n",
              "        [  0,   0,   0],\n",
              "        [  0,   0,   0]],\n",
              "\n",
              "       [[228, 111, 111],\n",
              "        [228, 111, 111],\n",
              "        [228, 111, 111],\n",
              "        ...,\n",
              "        [228, 111, 111],\n",
              "        [228, 111, 111],\n",
              "        [228, 111, 111]],\n",
              "\n",
              "       [[228, 111, 111],\n",
              "        [228, 111, 111],\n",
              "        [228, 111, 111],\n",
              "        ...,\n",
              "        [228, 111, 111],\n",
              "        [228, 111, 111],\n",
              "        [228, 111, 111]],\n",
              "\n",
              "       ...,\n",
              "\n",
              "       [[  0,   0,   0],\n",
              "        [  0,   0,   0],\n",
              "        [  0,   0,   0],\n",
              "        ...,\n",
              "        [  0,   0,   0],\n",
              "        [  0,   0,   0],\n",
              "        [  0,   0,   0]],\n",
              "\n",
              "       [[  0,   0,   0],\n",
              "        [  0,   0,   0],\n",
              "        [  0,   0,   0],\n",
              "        ...,\n",
              "        [  0,   0,   0],\n",
              "        [  0,   0,   0],\n",
              "        [  0,   0,   0]],\n",
              "\n",
              "       [[  0,   0,   0],\n",
              "        [  0,   0,   0],\n",
              "        [  0,   0,   0],\n",
              "        ...,\n",
              "        [  0,   0,   0],\n",
              "        [  0,   0,   0],\n",
              "        [  0,   0,   0]]], dtype=uint8)"
            ]
          },
          "metadata": {
            "tags": []
          },
          "execution_count": 7
        }
      ]
    },
    {
      "cell_type": "code",
      "metadata": {
        "id": "Uj7MvHqrDZgf",
        "colab_type": "code",
        "outputId": "2d1987ee-87a1-4456-ccd5-61356710f884",
        "colab": {
          "base_uri": "https://localhost:8080/",
          "height": 337
        }
      },
      "source": [
        "obs,reward,done,_ = env.step(1)\n",
        "print(obs.shape)\n",
        "import matplotlib.pyplot as plt\n",
        "print(obs[:][:180].shape)\n",
        "obs = obs[:][:180]\n",
        "obs= rgb2gray(obs)\n",
        "obs = transform.resize(obs,[170,170])\n",
        "print(obs.shape)\n",
        "plt.imshow(obs)"
      ],
      "execution_count": 0,
      "outputs": [
        {
          "output_type": "stream",
          "text": [
            "(210, 160, 3)\n",
            "(180, 160, 3)\n",
            "(170, 170)\n"
          ],
          "name": "stdout"
        },
        {
          "output_type": "execute_result",
          "data": {
            "text/plain": [
              "<matplotlib.image.AxesImage at 0x7ff94c1950b8>"
            ]
          },
          "metadata": {
            "tags": []
          },
          "execution_count": 8
        },
        {
          "output_type": "display_data",
          "data": {
            "image/png": "[encoded data removed]",
            "text/plain": [
              "<Figure size 432x288 with 1 Axes>"
            ]
          },
          "metadata": {
            "tags": []
          }
        }
      ]
    },
    {
      "cell_type": "code",
      "metadata": {
        "id": "_WHhcvAKDCh3",
        "colab_type": "code",
        "colab": {}
      },
      "source": [
        "def data_preprocess_image(image):\n",
        "  image = rgb2gray(image)\n",
        "  image = image[:][:180]\n",
        "  image = transform.resize(image,[170,170])\n",
        "  return image"
      ],
      "execution_count": 0,
      "outputs": []
    },
    {
      "cell_type": "code",
      "metadata": {
        "id": "mTqI_SJnIWeg",
        "colab_type": "code",
        "colab": {}
      },
      "source": [
        "from collections import deque\n"
      ],
      "execution_count": 0,
      "outputs": []
    },
    {
      "cell_type": "code",
      "metadata": {
        "id": "w-dlxp_PGqA6",
        "colab_type": "code",
        "colab": {}
      },
      "source": [
        "stack_size = 4 \n",
        "stack_frames = deque([np.zeros((170,170),dtype=np.int) for i in range(stack_size)],maxlen=4)\n",
        "def stack_frames(stack_frames,state,is_new_episode):\n",
        "  frame = data_preprocess_image(state)\n",
        "  if is_new_episode:\n",
        "    stack_frames = deque([np.zeros((170,170),dtype=np.int) for i in range(stack_size)],maxlen=4)\n",
        "    stack_frames.append(frame)\n",
        "    stack_frames.append(frame)\n",
        "    stack_frames.append(frame)\n",
        "    stack_frames.append(frame)  \n",
        "    stacked_state = np.stack(stack_frames,axis=2)\n",
        "  else:\n",
        "    stack_frames.append(frame)\n",
        "    stacked_state = np.stack(stack_frames,axis=2)\n",
        "  \n",
        "  return stacked_state,stack_frames"
      ],
      "execution_count": 0,
      "outputs": []
    },
    {
      "cell_type": "code",
      "metadata": {
        "id": "_jjfq03oUmz-",
        "colab_type": "code",
        "colab": {}
      },
      "source": [
        "### MODEL HYPERPARAMETERS\n",
        "state_size = [170,170,4]\n",
        "\n",
        "action_size = env.action_space.n \n",
        "learning_rate =  0.00025      # Alpha (aka learning rate)\n",
        "\n",
        "### TRAINING HYPERPARAMETERS\n",
        "total_episodes = 30            # Total episodes for training\n",
        "max_steps = 50000              # Max possible steps in an episode\n",
        "batch_size = 64                # Batch size\n",
        "\n",
        "# Exploration parameters for epsilon greedy strategy\n",
        "explore_start = 1.0            # exploration probability at start\n",
        "explore_stop = 0.01            # minimum exploration probability \n",
        "decay_rate = 0.00001           # exponential decay rate for exploration prob\n",
        "\n",
        "# Q learning hyperparameters\n",
        "gamma = 0.9                    # Discounting rate\n",
        "\n",
        "### MEMORY HYPERPARAMETERS\n",
        "pretrain_length = batch_size   # Number of experiences stored in the Memory when initialized for the first time\n",
        "memory_size = 1000000          # Number of experiences the Memory can keep\n",
        "\n",
        "### PREPROCESSING HYPERPARAMETERS\n",
        "stack_size = 4                 # Number of frames stacked\n",
        "\n",
        "### MODIFY THIS TO FALSE IF YOU JUST WANT TO SEE THE TRAINED AGENT\n",
        "training = True\n",
        "\n",
        "## TURN THIS TO TRUE IF YOU WANT TO RENDER THE ENVIRONMENT\n",
        "episode_render = False"
      ],
      "execution_count": 0,
      "outputs": []
    },
    {
      "cell_type": "code",
      "metadata": {
        "id": "sor7dQk9bhSI",
        "colab_type": "code",
        "colab": {}
      },
      "source": [
        "class DQNetwork(Model):\n",
        "  def __init__(self,state_size,action_size,learning_rate,name='DQNetwork'):\n",
        "    super(DQNetwork, self).__init__()\n",
        "    self.state_size = state_size\n",
        "    self.action_size = action_size\n",
        "    self.learning_rate = learning_rate\n",
        "\n",
        "    self.conv1 = Conv2D(32, kernel_size=[8,8],strides=[4,4], activation='elu',padding=\"valid\",kernel_initializer= tf.keras.initializers.GlorotNormal())\n",
        "    self.conv2 = Conv2D(64, kernel_size=[4,4],strides=[2,2], activation='elu',padding=\"valid\",kernel_initializer= tf.keras.initializers.GlorotNormal())\n",
        "    self.conv3 = Conv2D(64, kernel_size=[3,3],strides=[2,2], activation='elu',padding=\"valid\",kernel_initializer= tf.keras.initializers.GlorotNormal())\n",
        "    self.flatten = Flatten()\n",
        "    self.d1 = Dense(512, activation='elu',kernel_initializer = tf.keras.initializers.GlorotNormal())\n",
        "    self.d2 = Dense(self.action_size, activation=None,kernel_initializer = tf.keras.initializers.GlorotNormal())\n",
        "\n",
        "  def call(self, x):\n",
        "    x = self.conv1(x)\n",
        "    x= self.conv2(x)\n",
        "    x = self.conv3(x)\n",
        "    x = self.flatten(x)\n",
        "    x = self.d1(x)\n",
        "    return self.d2(x)\n",
        "\n",
        "# Create an instance of the model\n",
        "model = DQNetwork(state_size,action_size,learning_rate)\n",
        "optimizer =  tf.keras.optimizers.Adam()"
      ],
      "execution_count": 0,
      "outputs": []
    },
    {
      "cell_type": "code",
      "metadata": {
        "id": "UbUN6YDpCYEC",
        "colab_type": "code",
        "colab": {}
      },
      "source": [
        "class Memory():\n",
        "  def __init__(self,max_size):\n",
        "    self.buffer = deque(maxlen = max_size) \n",
        "\n",
        "  def add(self,experience):\n",
        "    self.buffer.append(experience)\n",
        "\n",
        "  def sample(self,batch_size):\n",
        "    buffer_size = len(self.buffer)\n",
        "    index = np.random.choice(np.arange(buffer_size),size=batch_size,replace=False)\n",
        "    return [self.buffer[i] for i in index] "
      ],
      "execution_count": 0,
      "outputs": []
    },
    {
      "cell_type": "code",
      "metadata": {
        "id": "m9nFQcoykJQa",
        "colab_type": "code",
        "colab": {}
      },
      "source": [
        "import random\n",
        "memory = Memory(max_size = memory_size)\n",
        "for i in range(pretrain_length):\n",
        "  if i==0:\n",
        "    state = env.reset()\n",
        "    state,stacked_frames = stack_frames(stack_frames,state,True)\n",
        "  choice = random.randint(1,len(possible_actions))-1\n",
        "  action = possible_actions[choice]\n",
        "  next_state,reward,done,_ = env.step(np.argmax(action))\n",
        "\n",
        "  next_state,stacked_frames = stack_frames(stacked_frames,next_state,False)\n",
        "  if done:\n",
        "    next_state = np.zeros(state.shape)\n",
        "    memory.add((state,action,reward,next_state,done))\n",
        "    state = env.reset()\n",
        "    state,stacked_frames = stack_frames(stacked_frames,state,True)\n",
        "  else:\n",
        "    memory.add((state,action,reward,next_state,done))\n",
        "    state = next_state"
      ],
      "execution_count": 0,
      "outputs": []
    },
    {
      "cell_type": "code",
      "metadata": {
        "id": "KqE8C2hQB9wj",
        "colab_type": "code",
        "colab": {}
      },
      "source": [
        "def predict_action(explore_start,explore_stop,decay_rate,decay_step,state,actions):\n",
        "  exp_exp_tradeoff = np.random.rand()\n",
        "  explore_probability = explore_stop + (explore_start - explore_stop)* np.exp(-decay_rate * decay_step)\n",
        "  if(explore_probability < exp_exp_tradeoff):\n",
        "    Qs = model(state.reshape((1,*state.shape)))\n",
        "    action = actions[np.argmax(Qs)]\n",
        "  else:\n",
        "    action = actions[random.randint(1,len(actions))-1]\n",
        "  \n",
        "  return action,explore_probability"
      ],
      "execution_count": 0,
      "outputs": []
    },
    {
      "cell_type": "code",
      "metadata": {
        "id": "7B1-z2n_FG4O",
        "colab_type": "code",
        "outputId": "122203b7-49a2-4295-ae65-8f140d693895",
        "colab": {
          "base_uri": "https://localhost:8080/",
          "height": 1000
        }
      },
      "source": [
        "if training == True:\n",
        "  decay_step = 0\n",
        "  for episode in range(total_episodes):\n",
        "    step =0\n",
        "    episode_rewards = []\n",
        "    state = env.reset()\n",
        "    state,stacked_frames = stack_frames(stacked_frames,state,True)\n",
        "    while step<max_steps:\n",
        "      step+=1\n",
        "      decay_step +=1\n",
        "      action,explore_probability = predict_action(explore_start,explore_stop,decay_rate,decay_step,state,possible_actions)\n",
        "      next_state,reward,done,_ = env.step(np.argmax(action))\n",
        "      if episode_render:\n",
        "        env.render()\n",
        "      episode_rewards.append(reward)\n",
        "      if done:\n",
        "        next_state = np.zeros((110,84),dtype=np.int)\n",
        "        next_state,stacked_frames = stack_frames(stacked_frames,next_state,False)\n",
        "        step = max_steps\n",
        "        total_rewards = np.sum(episode_rewards)\n",
        "        print('Episode: {}'.format(episode),\n",
        "                                  'Total reward: {}'.format(total_rewards),\n",
        "                                  'Explore P: {:.4f}'.format(explore_probability),\n",
        "                                'Training Loss {:.4f}'.format(loss))\n",
        "        memory.add((state,action,reward,next_state,done))\n",
        "      else:\n",
        "        next_state,stacked_frames = stack_frames(stacked_frames,state,False)\n",
        "        memory.add((state,action,reward,next_state,done))\n",
        "        state = next_state\n",
        "      batch = memory.sample(batch_size)\n",
        "      states_mb = np.array([each[0] for each in batch],ndmin=3)\n",
        "      actions_mb = np.array([each[1] for each in batch])\n",
        "      rewards_mb = np.array([each[2] for each in batch])\n",
        "      next_states_mb = np.array([each[3] for each in batch],ndmin=3)\n",
        "      dones_mb = np.array([each[4] for each in batch])\n",
        "      target_Qs_batch = []\n",
        "      Qs_next_state = model(next_states_mb)\n",
        "      for i in range(0,len(batch)):\n",
        "        terminal = dones_mb[i]\n",
        "        if terminal:\n",
        "          target_Qs_batch.append(rewards_mb[i])\n",
        "        else:\n",
        "          target = rewards_mb[i] + gamma* np.max(Qs_next_state[i])\n",
        "          target_Qs_batch.append(target)\n",
        "      targets_mb = np.array([each for each in target_Qs_batch])\n",
        "      with tf.GradientTape() as tape:\n",
        "        logits = model(states_mb)\n",
        "        #targets_mb->target_Q\n",
        "        #actions_mb ->actions_\n",
        "        Q = tf.reduce_sum(tf.multiply(logits,actions_mb))\n",
        "        loss = tf.reduce_sum(tf.square(targets_mb-Q))\n",
        "      gradients = tape.gradient(loss, model.trainable_variables)\n",
        "      optimizer.apply_gradients(zip(gradients, model.trainable_variables))\n",
        "      "
      ],
      "execution_count": 0,
      "outputs": [
        {
          "output_type": "stream",
          "text": [
            "WARNING:tensorflow:Layer dq_network is casting an input tensor from dtype float64 to the layer's dtype of float32, which is new behavior in TensorFlow 2.  The layer has dtype float32 because it's dtype defaults to floatx.\n",
            "\n",
            "If you intended to run this layer in float32, you can safely ignore this warning. If in doubt, this warning is likely only an issue if you are porting a TensorFlow 1.X model to TensorFlow 2.\n",
            "\n",
            "To change all layers to have dtype float64 by default, call `tf.keras.backend.set_floatx('float64')`. To change just this layer, pass dtype='float64' to the layer constructor. If you are the author of this layer, you can disable autocasting by passing autocast=False to the base Layer constructor.\n",
            "\n"
          ],
          "name": "stdout"
        },
        {
          "output_type": "stream",
          "text": [
            "/usr/local/lib/python3.6/dist-packages/skimage/util/dtype.py:135: UserWarning: Possible precision loss when converting from int64 to float64\n",
            "  .format(dtypeobj_in, dtypeobj_out))\n"
          ],
          "name": "stderr"
        },
        {
          "output_type": "stream",
          "text": [
            "Episode: 0 Total reward: 300.0 Explore P: 0.9931 Training Loss 490.2437\n"
          ],
          "name": "stdout"
        },
        {
          "output_type": "stream",
          "text": [
            "/usr/local/lib/python3.6/dist-packages/skimage/util/dtype.py:135: UserWarning: Possible precision loss when converting from int64 to float64\n",
            "  .format(dtypeobj_in, dtypeobj_out))\n"
          ],
          "name": "stderr"
        },
        {
          "output_type": "stream",
          "text": [
            "Episode: 1 Total reward: 300.0 Explore P: 0.9862 Training Loss 3677.0547\n"
          ],
          "name": "stdout"
        },
        {
          "output_type": "stream",
          "text": [
            "/usr/local/lib/python3.6/dist-packages/skimage/util/dtype.py:135: UserWarning: Possible precision loss when converting from int64 to float64\n",
            "  .format(dtypeobj_in, dtypeobj_out))\n"
          ],
          "name": "stderr"
        },
        {
          "output_type": "stream",
          "text": [
            "Episode: 2 Total reward: 230.0 Explore P: 0.9792 Training Loss 6.1133\n"
          ],
          "name": "stdout"
        },
        {
          "output_type": "stream",
          "text": [
            "/usr/local/lib/python3.6/dist-packages/skimage/util/dtype.py:135: UserWarning: Possible precision loss when converting from int64 to float64\n",
            "  .format(dtypeobj_in, dtypeobj_out))\n"
          ],
          "name": "stderr"
        },
        {
          "output_type": "stream",
          "text": [
            "Episode: 3 Total reward: 170.0 Explore P: 0.9733 Training Loss 290.3624\n"
          ],
          "name": "stdout"
        },
        {
          "output_type": "stream",
          "text": [
            "/usr/local/lib/python3.6/dist-packages/skimage/util/dtype.py:135: UserWarning: Possible precision loss when converting from int64 to float64\n",
            "  .format(dtypeobj_in, dtypeobj_out))\n"
          ],
          "name": "stderr"
        },
        {
          "output_type": "stream",
          "text": [
            "Episode: 4 Total reward: 190.0 Explore P: 0.9653 Training Loss 15.3600\n"
          ],
          "name": "stdout"
        },
        {
          "output_type": "stream",
          "text": [
            "/usr/local/lib/python3.6/dist-packages/skimage/util/dtype.py:135: UserWarning: Possible precision loss when converting from int64 to float64\n",
            "  .format(dtypeobj_in, dtypeobj_out))\n"
          ],
          "name": "stderr"
        },
        {
          "output_type": "stream",
          "text": [
            "Episode: 5 Total reward: 190.0 Explore P: 0.9584 Training Loss 573.0404\n"
          ],
          "name": "stdout"
        },
        {
          "output_type": "stream",
          "text": [
            "/usr/local/lib/python3.6/dist-packages/skimage/util/dtype.py:135: UserWarning: Possible precision loss when converting from int64 to float64\n",
            "  .format(dtypeobj_in, dtypeobj_out))\n"
          ],
          "name": "stderr"
        },
        {
          "output_type": "stream",
          "text": [
            "Episode: 6 Total reward: 230.0 Explore P: 0.9522 Training Loss 3016.3403\n"
          ],
          "name": "stdout"
        },
        {
          "output_type": "stream",
          "text": [
            "/usr/local/lib/python3.6/dist-packages/skimage/util/dtype.py:135: UserWarning: Possible precision loss when converting from int64 to float64\n",
            "  .format(dtypeobj_in, dtypeobj_out))\n"
          ],
          "name": "stderr"
        },
        {
          "output_type": "stream",
          "text": [
            "Episode: 7 Total reward: 160.0 Explore P: 0.9459 Training Loss 375.2711\n"
          ],
          "name": "stdout"
        },
        {
          "output_type": "stream",
          "text": [
            "/usr/local/lib/python3.6/dist-packages/skimage/util/dtype.py:135: UserWarning: Possible precision loss when converting from int64 to float64\n",
            "  .format(dtypeobj_in, dtypeobj_out))\n"
          ],
          "name": "stderr"
        },
        {
          "output_type": "stream",
          "text": [
            "Episode: 8 Total reward: 270.0 Explore P: 0.9394 Training Loss 228.5060\n"
          ],
          "name": "stdout"
        },
        {
          "output_type": "stream",
          "text": [
            "/usr/local/lib/python3.6/dist-packages/skimage/util/dtype.py:135: UserWarning: Possible precision loss when converting from int64 to float64\n",
            "  .format(dtypeobj_in, dtypeobj_out))\n"
          ],
          "name": "stderr"
        },
        {
          "output_type": "stream",
          "text": [
            "Episode: 9 Total reward: 240.0 Explore P: 0.9330 Training Loss 449.4984\n"
          ],
          "name": "stdout"
        },
        {
          "output_type": "stream",
          "text": [
            "/usr/local/lib/python3.6/dist-packages/skimage/util/dtype.py:135: UserWarning: Possible precision loss when converting from int64 to float64\n",
            "  .format(dtypeobj_in, dtypeobj_out))\n"
          ],
          "name": "stderr"
        },
        {
          "output_type": "stream",
          "text": [
            "Episode: 10 Total reward: 360.0 Explore P: 0.9265 Training Loss 1455.5933\n"
          ],
          "name": "stdout"
        },
        {
          "output_type": "stream",
          "text": [
            "/usr/local/lib/python3.6/dist-packages/skimage/util/dtype.py:135: UserWarning: Possible precision loss when converting from int64 to float64\n",
            "  .format(dtypeobj_in, dtypeobj_out))\n"
          ],
          "name": "stderr"
        },
        {
          "output_type": "stream",
          "text": [
            "Episode: 11 Total reward: 180.0 Explore P: 0.9211 Training Loss 377.7704\n"
          ],
          "name": "stdout"
        },
        {
          "output_type": "stream",
          "text": [
            "/usr/local/lib/python3.6/dist-packages/skimage/util/dtype.py:135: UserWarning: Possible precision loss when converting from int64 to float64\n",
            "  .format(dtypeobj_in, dtypeobj_out))\n"
          ],
          "name": "stderr"
        },
        {
          "output_type": "stream",
          "text": [
            "Episode: 12 Total reward: 250.0 Explore P: 0.9155 Training Loss 208.4458\n"
          ],
          "name": "stdout"
        },
        {
          "output_type": "stream",
          "text": [
            "/usr/local/lib/python3.6/dist-packages/skimage/util/dtype.py:135: UserWarning: Possible precision loss when converting from int64 to float64\n",
            "  .format(dtypeobj_in, dtypeobj_out))\n"
          ],
          "name": "stderr"
        },
        {
          "output_type": "stream",
          "text": [
            "Episode: 13 Total reward: 190.0 Explore P: 0.9109 Training Loss 215.8163\n"
          ],
          "name": "stdout"
        },
        {
          "output_type": "stream",
          "text": [
            "/usr/local/lib/python3.6/dist-packages/skimage/util/dtype.py:135: UserWarning: Possible precision loss when converting from int64 to float64\n",
            "  .format(dtypeobj_in, dtypeobj_out))\n"
          ],
          "name": "stderr"
        },
        {
          "output_type": "stream",
          "text": [
            "Episode: 14 Total reward: 280.0 Explore P: 0.9043 Training Loss 231.4303\n"
          ],
          "name": "stdout"
        },
        {
          "output_type": "stream",
          "text": [
            "/usr/local/lib/python3.6/dist-packages/skimage/util/dtype.py:135: UserWarning: Possible precision loss when converting from int64 to float64\n",
            "  .format(dtypeobj_in, dtypeobj_out))\n"
          ],
          "name": "stderr"
        },
        {
          "output_type": "stream",
          "text": [
            "Episode: 15 Total reward: 330.0 Explore P: 0.8977 Training Loss 104.0900\n"
          ],
          "name": "stdout"
        },
        {
          "output_type": "stream",
          "text": [
            "/usr/local/lib/python3.6/dist-packages/skimage/util/dtype.py:135: UserWarning: Possible precision loss when converting from int64 to float64\n",
            "  .format(dtypeobj_in, dtypeobj_out))\n"
          ],
          "name": "stderr"
        },
        {
          "output_type": "stream",
          "text": [
            "Episode: 16 Total reward: 250.0 Explore P: 0.8923 Training Loss 99.4193\n"
          ],
          "name": "stdout"
        },
        {
          "output_type": "stream",
          "text": [
            "/usr/local/lib/python3.6/dist-packages/skimage/util/dtype.py:135: UserWarning: Possible precision loss when converting from int64 to float64\n",
            "  .format(dtypeobj_in, dtypeobj_out))\n"
          ],
          "name": "stderr"
        },
        {
          "output_type": "stream",
          "text": [
            "Episode: 17 Total reward: 200.0 Explore P: 0.8863 Training Loss 0.0161\n"
          ],
          "name": "stdout"
        },
        {
          "output_type": "stream",
          "text": [
            "/usr/local/lib/python3.6/dist-packages/skimage/util/dtype.py:135: UserWarning: Possible precision loss when converting from int64 to float64\n",
            "  .format(dtypeobj_in, dtypeobj_out))\n"
          ],
          "name": "stderr"
        },
        {
          "output_type": "stream",
          "text": [
            "Episode: 18 Total reward: 230.0 Explore P: 0.8815 Training Loss 2281.7000\n"
          ],
          "name": "stdout"
        },
        {
          "output_type": "stream",
          "text": [
            "/usr/local/lib/python3.6/dist-packages/skimage/util/dtype.py:135: UserWarning: Possible precision loss when converting from int64 to float64\n",
            "  .format(dtypeobj_in, dtypeobj_out))\n"
          ],
          "name": "stderr"
        },
        {
          "output_type": "stream",
          "text": [
            "Episode: 19 Total reward: 200.0 Explore P: 0.8768 Training Loss 291.6292\n"
          ],
          "name": "stdout"
        },
        {
          "output_type": "stream",
          "text": [
            "/usr/local/lib/python3.6/dist-packages/skimage/util/dtype.py:135: UserWarning: Possible precision loss when converting from int64 to float64\n",
            "  .format(dtypeobj_in, dtypeobj_out))\n"
          ],
          "name": "stderr"
        },
        {
          "output_type": "stream",
          "text": [
            "Episode: 20 Total reward: 230.0 Explore P: 0.8722 Training Loss 109.9962\n"
          ],
          "name": "stdout"
        },
        {
          "output_type": "stream",
          "text": [
            "/usr/local/lib/python3.6/dist-packages/skimage/util/dtype.py:135: UserWarning: Possible precision loss when converting from int64 to float64\n",
            "  .format(dtypeobj_in, dtypeobj_out))\n"
          ],
          "name": "stderr"
        },
        {
          "output_type": "stream",
          "text": [
            "Episode: 21 Total reward: 190.0 Explore P: 0.8668 Training Loss 3904.1021\n"
          ],
          "name": "stdout"
        },
        {
          "output_type": "stream",
          "text": [
            "/usr/local/lib/python3.6/dist-packages/skimage/util/dtype.py:135: UserWarning: Possible precision loss when converting from int64 to float64\n",
            "  .format(dtypeobj_in, dtypeobj_out))\n"
          ],
          "name": "stderr"
        },
        {
          "output_type": "stream",
          "text": [
            "Episode: 22 Total reward: 290.0 Explore P: 0.8608 Training Loss 258.8975\n"
          ],
          "name": "stdout"
        },
        {
          "output_type": "stream",
          "text": [
            "/usr/local/lib/python3.6/dist-packages/skimage/util/dtype.py:135: UserWarning: Possible precision loss when converting from int64 to float64\n",
            "  .format(dtypeobj_in, dtypeobj_out))\n"
          ],
          "name": "stderr"
        },
        {
          "output_type": "stream",
          "text": [
            "Episode: 23 Total reward: 300.0 Explore P: 0.8541 Training Loss 1670.5293\n"
          ],
          "name": "stdout"
        },
        {
          "output_type": "stream",
          "text": [
            "/usr/local/lib/python3.6/dist-packages/skimage/util/dtype.py:135: UserWarning: Possible precision loss when converting from int64 to float64\n",
            "  .format(dtypeobj_in, dtypeobj_out))\n"
          ],
          "name": "stderr"
        },
        {
          "output_type": "stream",
          "text": [
            "Episode: 24 Total reward: 270.0 Explore P: 0.8487 Training Loss 1998.0042\n"
          ],
          "name": "stdout"
        },
        {
          "output_type": "stream",
          "text": [
            "/usr/local/lib/python3.6/dist-packages/skimage/util/dtype.py:135: UserWarning: Possible precision loss when converting from int64 to float64\n",
            "  .format(dtypeobj_in, dtypeobj_out))\n"
          ],
          "name": "stderr"
        },
        {
          "output_type": "stream",
          "text": [
            "Episode: 25 Total reward: 160.0 Explore P: 0.8446 Training Loss 5846.8477\n"
          ],
          "name": "stdout"
        },
        {
          "output_type": "stream",
          "text": [
            "/usr/local/lib/python3.6/dist-packages/skimage/util/dtype.py:135: UserWarning: Possible precision loss when converting from int64 to float64\n",
            "  .format(dtypeobj_in, dtypeobj_out))\n"
          ],
          "name": "stderr"
        },
        {
          "output_type": "stream",
          "text": [
            "Episode: 26 Total reward: 150.0 Explore P: 0.8399 Training Loss 2032.6990\n"
          ],
          "name": "stdout"
        },
        {
          "output_type": "stream",
          "text": [
            "/usr/local/lib/python3.6/dist-packages/skimage/util/dtype.py:135: UserWarning: Possible precision loss when converting from int64 to float64\n",
            "  .format(dtypeobj_in, dtypeobj_out))\n"
          ],
          "name": "stderr"
        },
        {
          "output_type": "stream",
          "text": [
            "Episode: 27 Total reward: 300.0 Explore P: 0.8344 Training Loss 296.4212\n"
          ],
          "name": "stdout"
        },
        {
          "output_type": "stream",
          "text": [
            "/usr/local/lib/python3.6/dist-packages/skimage/util/dtype.py:135: UserWarning: Possible precision loss when converting from int64 to float64\n",
            "  .format(dtypeobj_in, dtypeobj_out))\n"
          ],
          "name": "stderr"
        },
        {
          "output_type": "stream",
          "text": [
            "Episode: 28 Total reward: 180.0 Explore P: 0.8294 Training Loss 196.9198\n",
            "Episode: 29 Total reward: 220.0 Explore P: 0.8245 Training Loss 403.6094\n"
          ],
          "name": "stdout"
        },
        {
          "output_type": "stream",
          "text": [
            "/usr/local/lib/python3.6/dist-packages/skimage/util/dtype.py:135: UserWarning: Possible precision loss when converting from int64 to float64\n",
            "  .format(dtypeobj_in, dtypeobj_out))\n"
          ],
          "name": "stderr"
        }
      ]
    },
    {
      "cell_type": "code",
      "metadata": {
        "id": "8dfnqyolXlu9",
        "colab_type": "code",
        "outputId": "2eb4f11d-9df9-457b-f375-78b9bed09822",
        "colab": {
          "base_uri": "https://localhost:8080/",
          "height": 170
        }
      },
      "source": [
        "total_test_rewards=[]\n",
        "for episode in range(3):\n",
        "  total_rewards = 0\n",
        "\n",
        "  state = env.reset()\n",
        "  state, stacked_frames = stack_frames(stacked_frames, state, True)\n",
        "\n",
        "  print(\"****************************************************\")\n",
        "  print(\"EPISODE \", episode)\n",
        "\n",
        "  while True:\n",
        "      # Reshape the state\n",
        "      state = state.reshape((1, *state_size))\n",
        "      # Get action from Q-network \n",
        "      # Estimate the Qs values state\n",
        "      Qs = model(state)\n",
        "      \n",
        "      # Take the biggest Q value (= the best action)\n",
        "      choice = np.argmax(Qs)\n",
        "      action = possible_actions[choice]\n",
        "      \n",
        "      #Perform the action and get the next_state, reward, and done information\n",
        "      next_state, reward, done, _ = env.step(np.argmax(action))\n",
        "      #env.render()\n",
        "      \n",
        "      total_rewards += reward\n",
        "\n",
        "      if done:\n",
        "          print (\"Score\", total_rewards)\n",
        "          total_test_rewards.append(total_rewards)\n",
        "          break\n",
        "          \n",
        "          \n",
        "      next_state, stacked_frames = stack_frames(stacked_frames, next_state, False)\n",
        "      state = next_state\n",
        "      \n",
        "  env.close()"
      ],
      "execution_count": 0,
      "outputs": [
        {
          "output_type": "stream",
          "text": [
            "****************************************************\n",
            "EPISODE  0\n",
            "Score 300.0\n",
            "****************************************************\n",
            "EPISODE  1\n",
            "Score 310.0\n",
            "****************************************************\n",
            "EPISODE  2\n",
            "Score 530.0\n"
          ],
          "name": "stdout"
        }
      ]
    },
    {
      "cell_type": "code",
      "metadata": {
        "id": "QcAYo8_de_43",
        "colab_type": "code",
        "colab": {}
      },
      "source": [
        ""
      ],
      "execution_count": 0,
      "outputs": []
    }
  ]
}